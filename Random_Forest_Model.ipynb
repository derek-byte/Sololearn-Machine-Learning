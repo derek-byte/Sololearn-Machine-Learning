{
  "nbformat": 4,
  "nbformat_minor": 0,
  "metadata": {
    "colab": {
      "name": "Random Forest Model",
      "provenance": [],
      "authorship_tag": "ABX9TyP4/95VAGnz5RWIQ6zy7hhO",
      "include_colab_link": true
    },
    "kernelspec": {
      "name": "python3",
      "display_name": "Python 3"
    },
    "language_info": {
      "name": "python"
    }
  },
  "cells": [
    {
      "cell_type": "markdown",
      "metadata": {
        "id": "view-in-github",
        "colab_type": "text"
      },
      "source": [
        "<a href=\"https://colab.research.google.com/github/derek-byte/Sololearn-Machine-Learning/blob/main/Random_Forest_Model.ipynb\" target=\"_parent\"><img src=\"https://colab.research.google.com/assets/colab-badge.svg\" alt=\"Open In Colab\"/></a>"
      ]
    },
    {
      "cell_type": "markdown",
      "source": [
        "Lesson 39.1: Random Forests With Scikit-Learn"
      ],
      "metadata": {
        "id": "RGMPy9pPxIe6"
      }
    },
    {
      "cell_type": "code",
      "execution_count": 15,
      "metadata": {
        "colab": {
          "base_uri": "https://localhost:8080/"
        },
        "id": "Qnonp7UDv_cR",
        "outputId": "6f2e005e-44a5-43de-964a-e6747fe92ea1"
      },
      "outputs": [
        {
          "output_type": "stream",
          "name": "stdout",
          "text": [
            "dict_keys(['data', 'target', 'frame', 'target_names', 'DESCR', 'feature_names', 'filename', 'data_module'])\n",
            "Prediction [1]\n",
            "True Value 1\n",
            "random forest accuracy 0.972027972027972\n",
            "Decision tree accuracy 0.9020979020979021\n",
            "Worst Columns ['worst perimeter', 'worst radius', 'worst area', 'worst concave points', 'worst concavity']\n",
            "Decision tree accuracy 0.9300699300699301\n"
          ]
        }
      ],
      "source": [
        "from sklearn.ensemble import RandomForestClassifier\n",
        "from sklearn.model_selection import train_test_split\n",
        "from sklearn.datasets import load_breast_cancer\n",
        "import pandas as pd\n",
        "from sklearn.tree import DecisionTreeClassifier\n",
        "\n",
        "cancer_data = load_breast_cancer()\n",
        "\n",
        "print(cancer_data.keys())\n",
        "\n",
        "df = pd.DataFrame(cancer_data['data'], columns = cancer_data['feature_names'])\n",
        "df['target'] = cancer_data['target']\n",
        "\n",
        "X = df[cancer_data.feature_names].values\n",
        "y = df['target'].values\n",
        "\n",
        "X_train, X_test, y_train, y_test = train_test_split(X, y, random_state=101)\n",
        "rf = RandomForestClassifier()\n",
        "rf.fit(X_train, y_train)\n",
        "\n",
        "first_row = X_test[0]\n",
        "\n",
        "# Random forest results\n",
        "print(\"Prediction\", rf.predict([first_row]))\n",
        "print(\"True Value\", y_test[0])\n",
        "print(\"random forest accuracy\", rf.score(X_test, y_test))\n",
        "\n",
        "dt = DecisionTreeClassifier()\n",
        "dt.fit(X_train, y_train)\n",
        "print(\"Decision tree accuracy\", dt.score(X_test, y_test))\n",
        "\n",
        "ft_imp = pd.Series(rf.feature_importances_,\n",
        "                   index=cancer_data.feature_names).sort_values(ascending=False)\n",
        "ft_imp.head(10)\n",
        "\n",
        "# After doing ft_imp.head(10), get the worst columns\n",
        "worst_cols = ['worst perimeter', 'worst radius', 'worst area', 'worst concave points', 'worst concavity']\n",
        "print(\"Worst Columns\", worst_cols)\n",
        "\n",
        "X_worst = df[worst_cols]\n",
        "X_train, X_test, y_train, y_test = train_test_split(X_worst, y, random_state=101)\n",
        "\n",
        "dt.fit(X_train, y_train)\n",
        "print(\"Decision tree accuracy\", dt.score(X_test, y_test))"
      ]
    },
    {
      "cell_type": "markdown",
      "source": [
        "Lesson 40.1: Tuning a Random Forest"
      ],
      "metadata": {
        "id": "f2rhek_MxHtm"
      }
    },
    {
      "cell_type": "code",
      "source": [
        "from sklearn.ensemble import RandomForestClassifier\n",
        "from sklearn.model_selection import GridSearchCV\n",
        "import matplotlib.pyplot as plt\n",
        "\n",
        "# Scikit-learn has built in a Grid Search class to help us find the optimal choice of parameters\n",
        "# n_estimators is number of trees\n",
        "\n",
        "n_estimators = list(range(1, 101))\n",
        "param_grid = {'n_estimators': n_estimators,}\n",
        "# param_grid = {'n_estimators': [10, 25, 50, 75, 100],}\n",
        "rf = RandomForestClassifier()\n",
        "\n",
        "# We set cv=5 for 5-fold cross validation\n",
        "gs = GridSearchCV(rf, param_grid, cv=5)\n",
        "\n",
        "gs.fit(X, y)\n",
        "\n",
        "print(\"best params:\", gs.best_params_)\n",
        "# best params: {'n_estimators': 50}\n",
        "\n",
        "scores = gs.cv_results_['mean_test_score']\n",
        "plt.plot(n_estimators, scores)\n",
        "plt.xlabel(\"n_estimators\")\n",
        "plt.ylabel(\"accuracy\")\n",
        "plt.xlim(0, 100)\n",
        "plt.ylim(0.9, 1)\n",
        "plt.show()\n",
        "\n",
        "# After looking at the graph, we see where the graph levels off and use the x value as n_estimators (optimal number of trees)"
      ],
      "metadata": {
        "colab": {
          "base_uri": "https://localhost:8080/",
          "height": 302
        },
        "id": "iOlSmCL7062R",
        "outputId": "d805de21-dd4a-48bc-8921-a2d99308c0a3"
      },
      "execution_count": 8,
      "outputs": [
        {
          "output_type": "stream",
          "name": "stdout",
          "text": [
            "best params: {'n_estimators': 98}\n"
          ]
        },
        {
          "output_type": "display_data",
          "data": {
            "text/plain": [
              "<Figure size 432x288 with 1 Axes>"
            ],
            "image/png": "[encoded data removed]"
          },
          "metadata": {
            "needs_background": "light"
          }
        }
      ]
    },
    {
      "cell_type": "markdown",
      "source": [
        "Lesson 42.1: Random Forests Pros & Cons"
      ],
      "metadata": {
        "id": "64CqjtJc3eym"
      }
    },
    {
      "cell_type": "code",
      "source": [
        "from sklearn.datasets import make_circles\n",
        "from sklearn.model_selection import KFold\n",
        "from sklearn.linear_model import LogisticRegression\n",
        "from sklearn.ensemble import RandomForestClassifier\n",
        "import numpy as np\n",
        "\n",
        "X, y = make_circles(noise=0.2, factor=0.5, random_state=1)\n",
        "kf = KFold(n_splits=5, shuffle=True, random_state=1)\n",
        "lr_scores = []\n",
        "rf_scores = []\n",
        "\n",
        "for train_index, test_index in kf.split(X):\n",
        "    X_train, X_test = X[train_index], X[test_index]\n",
        "    y_train, y_test = y[train_index], y[test_index]\n",
        "    lr = LogisticRegression(solver='lbfgs')\n",
        "    lr.fit(X_train, y_train)\n",
        "    lr_scores.append(lr.score(X_test, y_test))\n",
        "    rf = RandomForestClassifier(n_estimators=100)\n",
        "    rf.fit(X_train, y_train)\n",
        "    rf_scores.append(rf.score(X_test, y_test))\n",
        "\n",
        "print(\"LR accuracy:\", np.mean(lr_scores))\n",
        "print(\"RF accuracy:\", np.mean(rf_scores))\n",
        "\n",
        "\"\"\"\n",
        "When looking to get a benchmark for a new classification problem, it is common\n",
        "practice to start by building a Logistic Regression model and a Random Forest \n",
        "model as these two models both have potential to perform well without any tuning. \n",
        "This will give you values for your metrics to try to beat. Oftentimes it is \n",
        "almost impossible to do better than these benchmarks.\n",
        "\"\"\""
      ],
      "metadata": {
        "colab": {
          "base_uri": "https://localhost:8080/"
        },
        "id": "3bzwTgQ-3egs",
        "outputId": "fcac8b34-48fd-405a-ebd7-f30f6f91b60e"
      },
      "execution_count": 16,
      "outputs": [
        {
          "output_type": "stream",
          "name": "stdout",
          "text": [
            "LR accuracy: 0.36\n",
            "RF accuracy: 0.82\n"
          ]
        }
      ]
    },
    {
      "cell_type": "markdown",
      "source": [
        "- Control number of trees in Random Forest: n_estimators\n",
        "- Max features: 'max_features'\n",
        "- Max features and trees are in param_grid: 'param grid'"
      ],
      "metadata": {
        "id": "utaOs7lY8ZeY"
      }
    },
    {
      "cell_type": "markdown",
      "source": [
        "Final Project"
      ],
      "metadata": {
        "id": "qD1lJ6PF9Jq_"
      }
    },
    {
      "cell_type": "code",
      "source": [
        "import numpy as np\n",
        "from sklearn.model_selection import train_test_split\n",
        "from sklearn.ensemble import RandomForestClassifier\n",
        "\n",
        "random_state = int(input())\n",
        "n = int(input())\n",
        "rows = []\n",
        "for i in range(n):\n",
        "    rows.append([float(a) for a in input().split()])\n",
        "\n",
        "X = np.array(rows)\n",
        "y = np.array([int(a) for a in input().split()])\n",
        "\n",
        "X_train, X_test, y_train, y_test = train_test_split(X, y, random_state=random_state)\n",
        "rf = RandomForestClassifier(n_estimators=5, random_state=random_state)\n",
        "\n",
        "rf.fit(X_train, y_train)\n",
        "\n",
        "print(rf.predict(X_test))\n",
        "\n",
        "# Notes: \n",
        "# random_state is needed in initializing variables and random forest classifier\n",
        "# random_state ensures that the process will output the same results every time"
      ],
      "metadata": {
        "id": "Dt7Jstqj87uM"
      },
      "execution_count": null,
      "outputs": []
    }
  ]
}