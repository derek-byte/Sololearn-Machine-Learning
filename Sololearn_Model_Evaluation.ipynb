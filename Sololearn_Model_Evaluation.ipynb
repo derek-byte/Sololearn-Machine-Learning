{
  "nbformat": 4,
  "nbformat_minor": 0,
  "metadata": {
    "colab": {
      "name": "Sololearn - Model Evaluation",
      "provenance": [],
      "authorship_tag": "ABX9TyNTvM7qi2R7JiJKOnZ0HjGA",
      "include_colab_link": true
    },
    "kernelspec": {
      "name": "python3",
      "display_name": "Python 3"
    },
    "language_info": {
      "name": "python"
    }
  },
  "cells": [
    {
      "cell_type": "markdown",
      "metadata": {
        "id": "view-in-github",
        "colab_type": "text"
      },
      "source": [
        "<a href=\"https://colab.research.google.com/github/derek-byte/Sololearn-Machine-Learning/blob/main/Sololearn_Model_Evaluation.ipynb\" target=\"_parent\"><img src=\"https://colab.research.google.com/assets/colab-badge.svg\" alt=\"Open In Colab\"/></a>"
      ]
    },
    {
      "cell_type": "markdown",
      "source": [
        "Lesson 18.1: Evaluation Metrics"
      ],
      "metadata": {
        "id": "Wa6VwzSoSI82"
      }
    },
    {
      "cell_type": "code",
      "execution_count": null,
      "metadata": {
        "id": "6UObPj_8P6z6"
      },
      "outputs": [],
      "source": [
        "# Confusion Matrix\n",
        "# (Correct)/(All) = 713/887 = 80.38%"
      ]
    },
    {
      "cell_type": "markdown",
      "source": [
        "Lesson 19.1: Precision and Recall"
      ],
      "metadata": {
        "id": "fAa9qJtXT-4h"
      }
    },
    {
      "cell_type": "code",
      "source": [
        "# Conceptually, precision refers to the percentage of positive results which are relevant and recall to the percentage of positive cases correctly classified.\n",
        "precision = (positive_predicted_correctly/positive_predictions) \n",
        "precision = 233 / (233 + 65) = 0.7819\n",
        "# precision = TP / (TP + FP)\n",
        "\n",
        "# Recall is the percent of positive cases that the model predicts correctly. Again, we will be using the confusion matrix to compute our result.\n",
        "recall = (positive_predicted_correctly/positive_cases)\n",
        "recall = 233 / (233 + 109) = 0.6813\n",
        "# recall = TP / (TP + FN)\n",
        "\n",
        "# The F1 score is an average of precision and recall so that we have a single score for our model.\n",
        "F1 = 2 * (precision * recall) / (precision + recall)"
      ],
      "metadata": {
        "id": "vSJ4oqaBUBzx"
      },
      "execution_count": null,
      "outputs": []
    },
    {
      "cell_type": "markdown",
      "source": [
        "Lesson 20.1: Calculating Metrics in Scikit-learn"
      ],
      "metadata": {
        "id": "qATT9SV2a5hR"
      }
    },
    {
      "cell_type": "code",
      "source": [
        "from sklearn.metrics import accuracy_score, precision_score, recall_score, f1_score, confusion_matrix\n",
        "from sklearn.linear_model import LogisticRegression\n",
        "import pandas as pd\n",
        "\n",
        "df = pd.read_csv('https://sololearn.com/uploads/files/titanic.csv')\n",
        "df['male'] = df['Sex'] == 'male'\n",
        "X = df[['Pclass', 'male', 'Age', 'Siblings/Spouses', 'Parents/Children', 'Fare']].values\n",
        "y = df['Survived'].values\n",
        "model = LogisticRegression()\n",
        "model.fit(X, y)\n",
        "y_pred = model.predict(X)\n",
        "\n",
        "print(\"accuracy:\", accuracy_score(y, y_pred))\n",
        "print(\"precision:\", precision_score(y, y_pred))\n",
        "print(\"recall:\", recall_score(y, y_pred))\n",
        "print(\"f1 score:\", f1_score(y, y_pred))\n",
        "\n",
        "print(confusion_matrix(y, y_pred))\n",
        "# [475, 70],\n",
        "# [103, 239]\n",
        "# True Positives: 239, False Positives: 70, False Negatives: 103, True Negatives: 475"
      ],
      "metadata": {
        "id": "abuPpPuxa_BW"
      },
      "execution_count": null,
      "outputs": []
    },
    {
      "cell_type": "markdown",
      "source": [
        "Lesson 21.1: Training and Testing "
      ],
      "metadata": {
        "id": "RMPLvU1Hh6JG"
      }
    },
    {
      "cell_type": "code",
      "source": [
        "# A standard breakdown is to put 70-80% of our data in the training set and 20-30% in the test set.\n",
        "from sklearn.model_selection import train_test_split\n",
        "from sklearn.linear_model import LogisticRegression\n",
        "import pandas as pd\n",
        "\n",
        "df = pd.read_csv('https://sololearn.com/uploads/files/titanic.csv')\n",
        "df['male'] = df['Sex'] == 'male'\n",
        "X = df[['Pclass', 'male', 'Age', 'Siblings/Spouses', 'Parents/Children', 'Fare']].values\n",
        "y = df['Survived'].values\n",
        "\n",
        "X_train, X_test, y_train, y_test = train_test_split(X, y, random_state=27, test_size=50)\n",
        "\n",
        "print(\"whole dataset:\", X.shape, y.shape)\n",
        "print(\"training set:\", X_train.shape, y_train.shape)\n",
        "print(\"test set:\", X_test.shape, y_test.shape)\n",
        "# By default the training set is 75% of the data and the test set is the remaining 25% of the data.\n",
        "\n",
        "print(X_train.shape, y_train.shape)\n",
        "# Result: (75, 4)(75,)\n",
        "# 75% used for training and 4 features because of x_train, x_test, y_train, y_test\n",
        "\n",
        "# Building a Scikit-learn Model Using a Training Set\n",
        "model.fit(X_train, y_train)\n",
        "print(model.score(X_test, y_test))"
      ],
      "metadata": {
        "id": "_Gb1tgQth_NR"
      },
      "execution_count": null,
      "outputs": []
    },
    {
      "cell_type": "markdown",
      "source": [
        "Lesson 22.1: Foundations of the ROC Curve"
      ],
      "metadata": {
        "id": "0HqQWMaFqP-c"
      }
    },
    {
      "cell_type": "code",
      "source": [
        "# The sensitivity is another term for the recall, which is the true positive rate. Recall that it is calculated as follows:\n",
        "sensitivity = recall = (positive_predicted_correctly/positive_cases)\n",
        "\n",
        "# The specificity is the true negative rate. It’s calculated as follows.\n",
        "specifity = negatives_predited_correctly / negative_cases"
      ],
      "metadata": {
        "id": "ORvFlPtDSkgR"
      },
      "execution_count": null,
      "outputs": []
    },
    {
      "cell_type": "code",
      "source": [
        "from sklearn.model_selection import train_test_split\n",
        "from sklearn.linear_model import LogisticRegression\n",
        "from sklearn.metrics import precision_recall_fscore_support, recall_score\n",
        "import pandas as pd\n",
        "\n",
        "sensitivity_score = recall_score\n",
        "def specificity_score(y_true, y_pred):\n",
        "  p, r, f, s = precision_recall_fscore_support(y_true, y_pred)\n",
        "  return r[0] \n",
        "\n",
        "df = pd.read_csv('https://sololearn.com/uploads/files/titanic.csv')\n",
        "df['male'] = df['Sex'] == 'male'\n",
        "X = df[['Pclass', 'male', 'Age', 'Siblings/Spouses', 'Parents/Children', 'Fare']].values\n",
        "y = df['Survived'].values\n",
        "\n",
        "# X_train, X_test, y_train, y_test = train_test_split(X, y, random_state=27, test_size=50)\n",
        "X_train, X_test, y_train, y_test = train_test_split(X, y)\n",
        "\n",
        "model = LogisticRegression()\n",
        "model.fit(X, y)\n",
        "# y_pred = model.predict(X)\n",
        "# Probability of positive class \n",
        "y_pred = model.predict_proba(X_test)[:, 1] > 0.75\n",
        "print(\"predict_proba\", model.predict_proba(X_test))\n",
        "\n",
        "# print(\"sensitivity:\", sensitivity_score(y_test, y_pred))\n",
        "# print(\"specificity:\", specificity_score(y_test, y_pred))"
      ],
      "metadata": {
        "id": "PGxoud9xqSwp"
      },
      "execution_count": null,
      "outputs": []
    },
    {
      "cell_type": "markdown",
      "source": [
        "Lesson 23.1: The ROC Curve"
      ],
      "metadata": {
        "id": "BSGqIKHmdT8c"
      }
    },
    {
      "cell_type": "code",
      "source": [
        "from sklearn.model_selection import train_test_split\n",
        "from sklearn.linear_model import LogisticRegression\n",
        "from sklearn.metrics import roc_auc_score, roc_curve\n",
        "import pandas as pd\n",
        "import matplotlib.pyplot as plt\n",
        "\n",
        "df = pd.read_csv('https://sololearn.com/uploads/files/titanic.csv')\n",
        "df['male'] = df['Sex'] == 'male'\n",
        "X = df[['Pclass', 'male', 'Age', 'Siblings/Spouses', 'Parents/Children', 'Fare']].values\n",
        "y = df['Survived'].values\n",
        "\n",
        "X_train, X_test, y_train, y_test = train_test_split(X, y)\n",
        "\n",
        "model1 = LogisticRegression()\n",
        "model1.fit(X_train, y_train)\n",
        "\n",
        "y_pred_proba1 = model1.predict_proba(X_test)\n",
        "print(\"model 1 AUC score:\", roc_auc_score(y_test, y_pred_proba1[:, 1]))\n",
        "\n",
        "model2 = LogisticRegression()\n",
        "model2.fit(X_train[:, 0:2], y_train)\n",
        "y_pred_proba2 = model2.predict_proba(X_test[:, 0:2])\n",
        "print(\"model 1 AUC score:\", roc_auc_score(y_test, y_pred_proba2[:, 1]))\n",
        "\n",
        "#Graph\n",
        "model = LogisticRegression()\n",
        "model.fit(X_train, y_train)\n",
        "y_pred_proba = model.predict_proba(X_test)\n",
        "fpr, tpr, thresholds = roc_curve(y_test, y_pred_proba[:,1])\n",
        "\n",
        "plt.plot(fpr, tpr)\n",
        "plt.plot([0, 1], [0, 1], linestyle='--')\n",
        "plt.xlim([0.0, 1.0])\n",
        "plt.ylim([0.0, 1.0])\n",
        "plt.xlabel('1 - specificity')\n",
        "plt.ylabel('sensitivity')\n",
        "plt.show()"
      ],
      "metadata": {
        "id": "-vCTYnUzdWEi"
      },
      "execution_count": null,
      "outputs": []
    },
    {
      "cell_type": "markdown",
      "source": [
        "Lesson 24.1: K-Fold Cross Validation"
      ],
      "metadata": {
        "id": "OhfAP_EehGvB"
      }
    },
    {
      "cell_type": "code",
      "source": [
        "# This process for creating multiple training and test sets is called k-fold cross validation.\n",
        "from sklearn.model_selection import train_test_split\n",
        "from sklearn.linear_model import LogisticRegression\n",
        "from sklearn.metrics import accuracy_score, precision_score, recall_score, f1_score\n",
        "import pandas as pd\n",
        "import numpy as np\n",
        "\n",
        "df = pd.read_csv('https://sololearn.com/uploads/files/titanic.csv')\n",
        "df['male'] = df['Sex'] == 'male'\n",
        "X = df[['Pclass', 'male', 'Age', 'Siblings/Spouses', 'Parents/Children', 'Fare']].values\n",
        "y = df['Survived'].values\n",
        "\n",
        "X_train, X_test, y_train, y_test = train_test_split(X, y)\n",
        "\n",
        "# building the model\n",
        "model = LogisticRegression()\n",
        "model.fit(X_train, y_train)\n",
        "\n",
        "# Evaluating the Model \n",
        "y_pred = model.predict_proba(X_test)\n",
        "print(\"accuracy {0:5f}\".format(accuracy_score(y_test, y_pred)))\n",
        "print(\"precision {0:5f}\".format(precision_score(y_test, y_pred)))\n",
        "print(\"recall {0:5f}\".format(recall_score(y_test, y_pred)))\n",
        "print(\"f1 score {0:5f}\".format(f1_score(y_test, y_pred)))"
      ],
      "metadata": {
        "id": "A-F_I7cWhKza"
      },
      "execution_count": null,
      "outputs": []
    },
    {
      "cell_type": "markdown",
      "source": [
        "Lesson 25.1: KFold Class"
      ],
      "metadata": {
        "id": "5f4fDn8jjw8z"
      }
    },
    {
      "cell_type": "code",
      "source": [
        "from sklearn.model_selection import KFold\n",
        "import pandas as pd\n",
        "\n",
        "df = pd.read_csv('https://sololearn.com/uploads/files/titanic.csv')\n",
        "X = df[['Age', 'Fare']].values[:6]\n",
        "y = df['Survived'].values[:6]\n",
        "\n",
        "# Shuffle data and randomize oredr of data\n",
        "kf = KFold(n_splits=3, shuffle=True)\n",
        "for train, test in kf.split(X):\n",
        "  print(train, test)"
      ],
      "metadata": {
        "id": "2GV-y1fTj0UX"
      },
      "execution_count": null,
      "outputs": []
    },
    {
      "cell_type": "code",
      "source": [
        "from sklearn.model_selection import KFold\n",
        "from sklearn.linear_model import LogisticRegression\n",
        "import pandas as pd\n",
        "\n",
        "df = pd.read_csv('https://sololearn.com/uploads/files/titanic.csv')\n",
        "df['male'] = df['Sex'] == 'male'\n",
        "X = df[['Pclass', 'male', 'Age', 'Siblings/Spouses', 'Parents/Children', 'Fare']].values\n",
        "y = df['Survived'].values\n",
        "\n",
        "# Shuffle data and randomize oredr of data\n",
        "kf = KFold(n_splits=5, shuffle=True)\n",
        "\n",
        "splits = list(kf.split(X))\n",
        "train_indices, test_indices = splits[0]\n",
        "X_train = X[train_indices]\n",
        "X_test = X[test_indices]\n",
        "y_train = y[train_indices]\n",
        "y_test = y[test_indices]\n",
        "\n",
        "model = LogisticRegression()\n",
        "model.fit(X_train, y_train)\n",
        "print(model.score(X_test, y_test))\n",
        "\n",
        "# Print Scores\n",
        "scores = []\n",
        "kf = KFold(n_splits=5, shuffle=True)\n",
        "for train_index, test_index in kf.split(X):\n",
        "    X_train, X_test = X[train_index], X[test_index]\n",
        "    y_train, y_test = y[train_index], y[test_index]\n",
        "    model = LogisticRegression()\n",
        "    model.fit(X_train, y_train)\n",
        "    scores.append(model.score(X_test, y_test))\n",
        "print(scores)\n",
        "print(np.mean(scores))"
      ],
      "metadata": {
        "id": "lVdGCV6Nk9WH"
      },
      "execution_count": null,
      "outputs": []
    }
  ]
}