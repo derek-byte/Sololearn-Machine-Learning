{
  "nbformat": 4,
  "nbformat_minor": 0,
  "metadata": {
    "colab": {
      "name": "Sololearn - Classification",
      "provenance": [],
      "collapsed_sections": [],
      "authorship_tag": "ABX9TyOQbV6OpfFVngAfeeNP1McX",
      "include_colab_link": true
    },
    "kernelspec": {
      "name": "python3",
      "display_name": "Python 3"
    },
    "language_info": {
      "name": "python"
    }
  },
  "cells": [
    {
      "cell_type": "markdown",
      "metadata": {
        "id": "view-in-github",
        "colab_type": "text"
      },
      "source": [
        "<a href=\"https://colab.research.google.com/github/derek-byte/Sololearn-Machine-Learning/blob/main/Sololearn_Classification.ipynb\" target=\"_parent\"><img src=\"https://colab.research.google.com/assets/colab-badge.svg\" alt=\"Open In Colab\"/></a>"
      ]
    },
    {
      "cell_type": "markdown",
      "source": [
        "What is Classification? "
      ],
      "metadata": {
        "id": "iFjzM6uRly2n"
      }
    },
    {
      "cell_type": "markdown",
      "source": [
        "Lesson 14.1: Logistic Regression Model (Sklearn)"
      ],
      "metadata": {
        "id": "MJqfSFix0uNN"
      }
    },
    {
      "cell_type": "code",
      "execution_count": null,
      "metadata": {
        "id": "n3Wn-gwKlr0i"
      },
      "outputs": [],
      "source": [
        "import pandas as pd\n",
        "\n",
        "df = pd.read_csv('https://sololearn.com/uploads/files/titanic.csv')\n",
        "df['male'] = df['Sex'] == 'male'\n",
        "X = df[['Pclass', 'male', 'Age', 'Siblings/Spouses', 'Parents/Children', 'Fare']].values\n",
        "y = df['Survived'].values\n",
        "\n",
        "print(X)\n",
        "print(y)"
      ]
    },
    {
      "cell_type": "code",
      "source": [
        "from sklearn.linear_model import LogisticRegression \n",
        "\n",
        "df = pd.read_csv('https://sololearn.com/uploads/files/titanic.csv')\n",
        "X = df[['Pclass', 'Age', 'Siblings/Spouses', 'Parents/Children', 'Fare']].values\n",
        "y = df['Survived'].values\n",
        "\n",
        "model = LogisticRegression()\n",
        "model.fit(X, y)\n",
        "\n",
        "print(model.coef_, model.intercept_) # [[ 0.01615949 -0.01549065]] [-0.51037152]\n",
        "\n",
        "# These values mean that the equation for life and death is: \n",
        "# 0 = 0.0161594x + -0.01549065y + -0.51037152\n",
        "\n",
        "model.predict(X)\n",
        "print(model.predict([[3, 22.0, 1, 0, 7.25]])) \n",
        "print(model.predict(X[:5])) \n",
        "\n",
        "y_pred = model.predict(X)\n",
        "print((y == y_pred).sum()) \n",
        "\n",
        "# Accuracy Score\n",
        "print((y == y_pred).sum() / y.shape[0]) \n",
        "# OR\n",
        "print(model.score(X,y))"
      ],
      "metadata": {
        "id": "hyB1cYICc4P_"
      },
      "execution_count": null,
      "outputs": []
    },
    {
      "cell_type": "markdown",
      "source": [
        "Lesson 15.1: Logistic Regression on Breast Cancer Dataset"
      ],
      "metadata": {
        "id": "RknvzF0j_X3B"
      }
    },
    {
      "cell_type": "code",
      "source": [
        "from sklearn.datasets import load_breast_cancer\n",
        "from sklearn.linear_model import LogisticRegression\n",
        "import pandas as pd\n",
        "\n",
        "cancer_data = load_breast_cancer()\n",
        "\n",
        "print(cancer_data.keys())\n",
        "# print(cancer_data['DESCR'])\n",
        "\n",
        "df = pd.DataFrame(cancer_data['data'], columns = cancer_data['feature_names'])\n",
        "df['target'] = cancer_data['target']\n",
        "\n",
        "# print(df.head())\n",
        "\n",
        "X = df[cancer_data.feature_names].values\n",
        "y = df['target'].values\n",
        "\n",
        "model = LogisticRegression(solver='liblinear')\n",
        "model.fit(X, y)\n",
        "print(X[0])\n",
        "print(\"prediction for datapoint 0:\", model.predict([X[0]]))\n",
        "print(model.score(X, y))\n",
        "\n",
        "# If we predict a passenger has 0.8 chance of survival, and the passenger survived, the likelihood is 0.8. \n",
        "# If we predict a passenger has 0.6 chance of survival and the passenger did not survive, what is the likelihood?\n",
        "# Answer: 1 - 0.6 = 0.4"
      ],
      "metadata": {
        "id": "-sGir3Wc_f00"
      },
      "execution_count": null,
      "outputs": []
    },
    {
      "cell_type": "markdown",
      "source": [
        "Classification Project Solution"
      ],
      "metadata": {
        "id": "ML5MrB37LvXA"
      }
    },
    {
      "cell_type": "code",
      "source": [
        "from sklearn.linear_model import LogisticRegression\n",
        "import pandas as pd\n",
        "\n",
        "n = int(input())\n",
        "# Next n lines: Values of the row in the feature matrix, separated by spaces\n",
        "X = []\n",
        "for i in range(n):\n",
        "    X.append([float(x) for x in input().split()])\n",
        "# Next line: Target values separated by spaces\n",
        "y = [int(x) for x in input().split()]\n",
        "# Final line: Values (separated by spaces) of a single datapoint without a target value\n",
        "datapoint = [float(x) for x in input().split()]\n",
        "\n",
        "model = LogisticRegression(solver='liblinear')\n",
        "model.fit(X, y)\n",
        "\n",
        "ans = model.predict([datapoint])\n",
        "print(ans[0])"
      ],
      "metadata": {
        "id": "QdwZIZ52LyML"
      },
      "execution_count": null,
      "outputs": []
    }
  ]
}