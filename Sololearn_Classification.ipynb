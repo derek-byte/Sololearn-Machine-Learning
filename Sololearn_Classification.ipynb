{
  "nbformat": 4,
  "nbformat_minor": 0,
  "metadata": {
    "colab": {
      "name": "Sololearn - Classification",
      "provenance": [],
      "collapsed_sections": [],
      "authorship_tag": "ABX9TyNDM007TybfqxIZxkSvDoar",
      "include_colab_link": true
    },
    "kernelspec": {
      "name": "python3",
      "display_name": "Python 3"
    },
    "language_info": {
      "name": "python"
    }
  },
  "cells": [
    {
      "cell_type": "markdown",
      "metadata": {
        "id": "view-in-github",
        "colab_type": "text"
      },
      "source": [
        "<a href=\"https://colab.research.google.com/github/derek-byte/Sololearn-Machine-Learning/blob/main/Sololearn_Classification.ipynb\" target=\"_parent\"><img src=\"https://colab.research.google.com/assets/colab-badge.svg\" alt=\"Open In Colab\"/></a>"
      ]
    },
    {
      "cell_type": "markdown",
      "source": [
        "What is Classification? "
      ],
      "metadata": {
        "id": "iFjzM6uRly2n"
      }
    },
    {
      "cell_type": "markdown",
      "source": [
        "Lesson 14.1: Logistic Regression Model (Sklearn)"
      ],
      "metadata": {
        "id": "MJqfSFix0uNN"
      }
    },
    {
      "cell_type": "code",
      "execution_count": null,
      "metadata": {
        "id": "n3Wn-gwKlr0i"
      },
      "outputs": [],
      "source": [
        "import pandas as pd\n",
        "\n",
        "df = pd.read_csv('https://sololearn.com/uploads/files/titanic.csv')\n",
        "df['male'] = df['Sex'] == 'male'\n",
        "X = df[['Pclass', 'male', 'Age', 'Siblings/Spouses', 'Parents/Children', 'Fare']].values\n",
        "y = df['Survived'].values\n",
        "\n",
        "print(X)\n",
        "print(y)"
      ]
    },
    {
      "cell_type": "code",
      "source": [
        "from sklearn.linear_model import LogisticRegression \n",
        "\n",
        "df = pd.read_csv('https://sololearn.com/uploads/files/titanic.csv')\n",
        "X = df[['Pclass', 'Age', 'Siblings/Spouses', 'Parents/Children', 'Fare']].values\n",
        "y = df['Survived'].values\n",
        "\n",
        "model = LogisticRegression()\n",
        "model.fit(X, y)\n",
        "\n",
        "print(model.coef_, model.intercept_) # [[ 0.01615949 -0.01549065]] [-0.51037152]\n",
        "\n",
        "# These values mean that the equation for life and death is: \n",
        "# 0 = 0.0161594x + -0.01549065y + -0.51037152\n",
        "\n",
        "model.predict(X)\n",
        "print(model.predict([[3, 22.0, 1, 0, 7.25]])) \n",
        "print(model.predict(X[:5])) \n",
        "\n",
        "y_pred = model.predict(X)\n",
        "print((y == y_pred).sum()) \n",
        "\n",
        "# Accuracy Score\n",
        "print((y == y_pred).sum() / y.shape[0]) \n",
        "# OR\n",
        "print(model.score(X,y))"
      ],
      "metadata": {
        "id": "hyB1cYICc4P_"
      },
      "execution_count": null,
      "outputs": []
    }
  ]
}