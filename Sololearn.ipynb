{
  "nbformat": 4,
  "nbformat_minor": 0,
  "metadata": {
    "colab": {
      "name": "Sololearn",
      "provenance": [],
      "collapsed_sections": [],
      "authorship_tag": "ABX9TyPA4yJlYkGZ4NxjTPCocWj4"
    },
    "kernelspec": {
      "name": "python3",
      "display_name": "Python 3"
    },
    "language_info": {
      "name": "python"
    },
    "accelerator": "GPU",
    "gpuClass": "standard"
  },
  "cells": [
    {
      "cell_type": "markdown",
      "source": [
        "Lesson 3.1 - Statistics (Numpy)"
      ],
      "metadata": {
        "id": "h9wAdOrLQaZd"
      }
    },
    {
      "cell_type": "code",
      "execution_count": null,
      "metadata": {
        "id": "WBvogv7iPuid"
      },
      "outputs": [],
      "source": [
        "import numpy as np\n",
        "\n",
        "# Ages\n",
        "data = [15, 16, 18, 19, 22, 24, 29, 30, 34]\n",
        "\n",
        "print(\"mean:\", np.mean(data))\n",
        "print(\"median:\", np.median(data))\n",
        "print(\"50th percentile (median):\", np.percentile(data, 50))\n",
        "print(\"25th percentile:\", np.percentile(data, 25))\n",
        "print(\"75th percentile:\", np.percentile(data, 75))\n",
        "print(\"standard deviation:\", np.std(data))\n",
        "print(\"variance:\", np.var(data))"
      ]
    },
    {
      "cell_type": "markdown",
      "source": [
        "Lesson 4.1 - Reading Data (Pandas) "
      ],
      "metadata": {
        "id": "qXl1qXaARGTc"
      }
    },
    {
      "cell_type": "code",
      "source": [
        "import pandas as pd \n",
        "\n",
        "df = pd.read_csv('https://sololearn.com/uploads/files/titanic.csv')\n",
        "print(df.head())\n",
        "\n",
        "pd.options.display.max_columns = 6\n",
        "print(df.describe())"
      ],
      "metadata": {
        "id": "anvZeIg8RKyJ"
      },
      "execution_count": null,
      "outputs": []
    },
    {
      "cell_type": "markdown",
      "source": [
        "Lesson 5.1 - Manipulating Data (Pandas)"
      ],
      "metadata": {
        "id": "4M58QuBh1VqF"
      }
    },
    {
      "cell_type": "code",
      "source": [
        "import pandas as pd \n",
        "\n",
        "df = pd.read_csv('https://sololearn.com/uploads/files/titanic.csv')\n",
        "\n",
        "# Get column values\n",
        "col = df['Fare']\n",
        "print(col)\n",
        "\n",
        "# Get select columns in dataset \n",
        "# Head prints first 5 rows\n",
        "small_df = df[['Age', 'Sex', 'Survived']]\n",
        "print(small_df.head())\n",
        "\n",
        "# Add a new column \n",
        "df['male'] = df['Sex'] == 'male'\n",
        "print(df.head())"
      ],
      "metadata": {
        "id": "Wfav5s-Q1aZe"
      },
      "execution_count": null,
      "outputs": []
    },
    {
      "cell_type": "markdown",
      "source": [
        "Lesson 6.1 - Manipulating Lists & Tables (Numpy)"
      ],
      "metadata": {
        "id": "ngV2K2VMSof6"
      }
    },
    {
      "cell_type": "code",
      "source": [
        "import pandas as pd \n",
        "\n",
        "df = pd.read_csv('https://sololearn.com/uploads/files/titanic.csv')\n",
        "\n",
        "# One dimension numpy array\n",
        "# print(df['Fare'].values)\n",
        "\n",
        "# Two dimension numpy array\n",
        "arr = df[['Pclass', 'Fare', 'Age']].values\n",
        "print(arr)\n",
        "\n",
        "# Numpy shape\n",
        "print(arr.shape)"
      ],
      "metadata": {
        "id": "tCHy3GGuSqDt"
      },
      "execution_count": null,
      "outputs": []
    },
    {
      "cell_type": "markdown",
      "source": [
        "Lesson 7.1 - Numpy Arrays "
      ],
      "metadata": {
        "id": "kmKYg6RgQ-6o"
      }
    },
    {
      "cell_type": "code",
      "source": [
        "import pandas as pd \n",
        "\n",
        "df = pd.read_csv('https://sololearn.com/uploads/files/titanic.csv')\n",
        "\n",
        "arr = df[['Pclass', 'Fare', 'Age']].values\n",
        "\n",
        "# print(arr[0, 1])\n",
        "# print(arr[0])\n",
        "# print(arr[:, 2])\n",
        "\n",
        "mask = arr[:, 2] < 18\n",
        "\n",
        "# print(arr[mask])\n",
        "# print(mask)\n",
        "\n",
        "print(mask.sum()) "
      ],
      "metadata": {
        "id": "P0WVfVJQRB2Z"
      },
      "execution_count": null,
      "outputs": []
    },
    {
      "cell_type": "markdown",
      "source": [
        "Lesson 8.1 - Plotting Basics (MatPlotLib)"
      ],
      "metadata": {
        "id": "TQPcxmnLTFKH"
      }
    },
    {
      "cell_type": "code",
      "source": [
        "import pandas as pd \n",
        "import matplotlib.pyplot as plt\n",
        "\n",
        "df = pd.read_csv('https://sololearn.com/uploads/files/titanic.csv')\n",
        "\n",
        "plt.scatter(df['Age'], df['Fare'])\n",
        "\n",
        "plt.xlabel('Age')\n",
        "plt.ylabel('Fare')\n",
        "\n",
        "plt.scatter(df['Age'], df['Fare'], c=df['Pclass'])\n",
        "\n",
        "# [x1, x2], [y1, y2]\n",
        "plt.plot([0, 80], [85, 5])"
      ],
      "metadata": {
        "id": "q2aDcwcuTLJK"
      },
      "execution_count": null,
      "outputs": []
    }
  ]
}